{
 "cells": [
  {
   "cell_type": "code",
   "execution_count": 1,
   "id": "e8d1a22e",
   "metadata": {},
   "outputs": [],
   "source": [
    "import geopandas as gpd\n",
    "import pandas as pd\n",
    "import matplotlib.pyplot as plt\n",
    "import networkx as nx"
   ]
  },
  {
   "cell_type": "code",
   "execution_count": 2,
   "id": "64614dab",
   "metadata": {},
   "outputs": [],
   "source": [
    "import pandas as pd\n",
    "import numpy as np\n",
    "import re"
   ]
  },
  {
   "cell_type": "code",
   "execution_count": 37,
   "id": "07f49d0a",
   "metadata": {},
   "outputs": [],
   "source": [
    "wel_fac = pd.read_csv('./data/서울시사회복지시설.csv')\n",
    "#dis_fac = pd.read_csv('./data/전국장애시설.csv')\n",
    "dis_po = pd.read_csv('./data/장애인구수.csv', skiprows=[1, 2, 3])\n",
    "all_po = pd.read_csv('./data/전체인구수.csv', skiprows=[1, 2])\n",
    "area = pd.read_csv('./data/서울시영역.csv')\n",
    "infra = pd.read_csv('./data/집객시설.csv')\n",
    "\n",
    "dis_po_hang = pd.read_csv('./장애인구/장애인구.csv', skiprows=[1, 2])\n",
    "code = pd.read_csv('./code/서울시코드정보.csv', encoding = 'cp949')"
   ]
  },
  {
   "cell_type": "markdown",
   "id": "9efefb99",
   "metadata": {},
   "source": [
    "## 장애인복지관 시설 추출 및 주소 잘못된거 수정"
   ]
  },
  {
   "cell_type": "code",
   "execution_count": 55,
   "id": "1a66b10f",
   "metadata": {},
   "outputs": [],
   "source": [
    "# \"장애인복지관\"이라는 단어가 포함된 행 추출\n",
    "wel_fac = wel_fac[wel_fac['시설종류명(시설유형)'].str.contains('장애인복지관')]"
   ]
  },
  {
   "cell_type": "code",
   "execution_count": 56,
   "id": "c4574363",
   "metadata": {},
   "outputs": [],
   "source": [
    "wel_fac.columns = ['SGG_NM', 'NAME', 'CATEGORY', 'ADDRESS']\n",
    "\n",
    "# 괄호와 그 안의 내용을 제거하는 함수 정의\n",
    "def remove_parentheses(text):\n",
    "    return re.sub(r'\\([^)]*\\)', '', text).strip()\n",
    "\n",
    "# ADDRESS 열에서 괄호를 제거\n",
    "wel_fac['ADDRESS'] = wel_fac['ADDRESS'].apply(remove_parentheses)\n",
    "\n",
    "#이상한 행 삭제\n",
    "wel_fac = wel_fac[wel_fac['NAME'] != '시설테스트1호']\n",
    "wel_fac = wel_fac[wel_fac['NAME'] != '성분도복지관']\n",
    "\n",
    "# 인덱스 초기화\n",
    "wel_fac.reset_index(drop=True, inplace=True)"
   ]
  },
  {
   "cell_type": "code",
   "execution_count": 57,
   "id": "35225836",
   "metadata": {},
   "outputs": [],
   "source": [
    "# 잘못된 주소 변경\n",
    "data = {\n",
    "    \"NAME\": [\"구립동대문장애인종합복지관\", \"서울시립남부장애인종합복지관\", \"서울시립발달장애인복지관\", \"마포장애인종합복지관\"],\n",
    "    \"ADDRESS\": [\n",
    "        \"서울특별시 동대문구 청계천로 521 구립동대문장애인종합복지관\",\n",
    "        \"서울특별시 동작구 여의대방로20나길 40 서울시립남부장애인종합복지관\",\n",
    "        \"서울특별시 동작구 여의대방로20나길 39 서울시립발달장애인복지관\",\n",
    "        \"서울특별시 마포구 성산로4길 35 마포장애인종합복지관\"\n",
    "    ]\n",
    "}\n",
    "\n",
    "# 데이터를 DataFrame으로 변환\n",
    "data = pd.DataFrame(data)\n",
    "\n",
    "# 주소를 변경하는 함수 정의\n",
    "def update_address(df):\n",
    "    address_mapping = {\n",
    "        \"구립동대문장애인종합복지관\": \"서울특별시 동대문구 청계천로 521 다사랑행복센터\",\n",
    "        \"서울시립남부장애인종합복지관\": \"서울특별시 동작구 여의대방로20나길 40 서울시립남부장애인종합복지관\",\n",
    "        \"서울시립발달장애인복지관\": \"서울특별시 동작구 여의대방로20나길 39 서울시립발달장애인복지관\",\n",
    "        \"마포장애인종합복지관\": \"서울특별시 마포구 성산로4길 35 마포장애인종합복지관\"\n",
    "    }\n",
    "    \n",
    "    for name, address in address_mapping.items():\n",
    "        df.loc[df['NAME'] == name, 'ADDRESS'] = address\n",
    "\n",
    "    return df\n",
    "\n",
    "# 주소 업데이트\n",
    "wel_fac = update_address(wel_fac)"
   ]
  },
  {
   "cell_type": "code",
   "execution_count": 58,
   "id": "ce163164",
   "metadata": {},
   "outputs": [],
   "source": [
    "wel_fac.to_csv('장애인복지관.csv', index=False, encoding='utf-8-sig')"
   ]
  },
  {
   "cell_type": "markdown",
   "id": "b1807fa8",
   "metadata": {},
   "source": [
    "## 자치구 경계 데이터 통합"
   ]
  },
  {
   "cell_type": "code",
   "execution_count": null,
   "id": "2db9eec1",
   "metadata": {},
   "outputs": [],
   "source": [
    "# 서울시 행정구역 데이터 불러오기\n",
    "a1 = gpd.read_file('./경계/11110.shp')\n",
    "a2 = gpd.read_file('./경계/11140.shp')\n",
    "a3 = gpd.read_file('./경계/11170.shp')\n",
    "a4 = gpd.read_file('./경계/11200.shp')\n",
    "a5 = gpd.read_file('./경계/11215.shp')\n",
    "a6 = gpd.read_file('./경계/11230.shp')\n",
    "a7 = gpd.read_file('./경계/11260.shp')\n",
    "a8 = gpd.read_file('./경계/11290.shp')\n",
    "a9 = gpd.read_file('./경계/11305.shp')\n",
    "a10 = gpd.read_file('./경계/11320.shp')\n",
    "a11 = gpd.read_file('./경계/11350.shp')\n",
    "a12 = gpd.read_file('./경계/11380.shp')\n",
    "a13 = gpd.read_file('./경계/11410.shp')\n",
    "a14 = gpd.read_file('./경계/11440.shp')\n",
    "a15 = gpd.read_file('./경계/11470.shp')\n",
    "a16 = gpd.read_file('./경계/11500.shp')\n",
    "a17 = gpd.read_file('./경계/11530.shp')\n",
    "a18 = gpd.read_file('./경계/11545.shp')\n",
    "a19 = gpd.read_file('./경계/11560.shp')\n",
    "a20 = gpd.read_file('./경계/11590.shp')\n",
    "a21 = gpd.read_file('./경계/11620.shp')\n",
    "a22 = gpd.read_file('./경계/11650.shp')\n",
    "a23 = gpd.read_file('./경계/11680.shp')\n",
    "a24 = gpd.read_file('./경계/11710.shp')\n",
    "a25 = gpd.read_file('./경계/11740.shp')"
   ]
  },
  {
   "cell_type": "code",
   "execution_count": null,
   "id": "38bb8a71",
   "metadata": {},
   "outputs": [],
   "source": [
    "# 모든 GeoDataFrame 병합\n",
    "seoul_all = pd.concat([a1, a2, a3, a4, a5, a6, a7, a8, a9, a10,\n",
    "                     a11, a12, a13, a14, a15, a16, a17, a18, a19,\n",
    "                     a20, a21, a22, a23, a24, a25], ignore_index=True)\n",
    "\n",
    "# 병합된 GeoDataFrame 저장\n",
    "seoul_all.to_file('./경계/seoul_all.shp')"
   ]
  },
  {
   "cell_type": "markdown",
   "id": "af30a442",
   "metadata": {},
   "source": [
    "## 행정동 경계 데이터 정제\n",
    "\n",
    "- 용강동은 데이터가 이상해서 제외시킴"
   ]
  },
  {
   "cell_type": "code",
   "execution_count": 3,
   "id": "bf017946",
   "metadata": {},
   "outputs": [],
   "source": [
    "# 서울시 행정동 경계 데이터 정제\n",
    "seuol_dong = gpd.read_file('./법정동경계/LSMD_ADM_SECT_UMD.shp')\n",
    "seuol_dong = seuol_dong[seuol_dong['COL_ADM_SE'].isin(seoul_all['SGG_CD'])]\n",
    "seuol_dong = seuol_dong[seuol_dong['EMD_NM'] != '용강동']\n",
    "\n",
    "seuol_dong.to_file('./법정동경계/seoul_dong.shp')"
   ]
  },
  {
   "cell_type": "markdown",
   "id": "ca0d0013",
   "metadata": {},
   "source": [
    "## 법정동, 행정동 통합\n",
    "\n",
    "- 경계 데이터는 법정동, 장애인구는 행정동으로 되어있음\n",
    "- 장애인구의 행정동은 또 이름이 잘못되어 있음. 법정동, 행정동 코드 데이터에서 가져와서 수정"
   ]
  },
  {
   "cell_type": "code",
   "execution_count": 38,
   "id": "b0076e67",
   "metadata": {},
   "outputs": [],
   "source": [
    "dis_po_h = dis_po_hang.iloc[:,[1,2,3]]\n",
    "dis_po_h.columns = ['시군구명','EMD_NM','num']\n",
    "\n",
    "# 행정동에서 기타라고 되어 있는 부분 어차피 인구수가 누락이라 제거\n",
    "dis_po_h = dis_po_h[dis_po_h['EMD_NM'] != '기타']\n",
    "\n",
    "# num 열의 타입을 int로 변환\n",
    "dis_po_h['num'] = dis_po_h['num'].astype(int)"
   ]
  },
  {
   "cell_type": "code",
   "execution_count": 39,
   "id": "683ca58a",
   "metadata": {},
   "outputs": [],
   "source": [
    "# '제' 글자 제거하는 함수 정의\n",
    "def remove_je(text):\n",
    "    if isinstance(text, str):\n",
    "        return re.sub(r'제(\\d+)', r'\\1', text)\n",
    "    return text"
   ]
  },
  {
   "cell_type": "code",
   "execution_count": 40,
   "id": "27c1ba34",
   "metadata": {},
   "outputs": [],
   "source": [
    "# 법정동, 행정동 통합 정보 제공하는 데이터와 장애인구의 행정동명 통합위한 전처리\n",
    "code['행정동명'] = code['행정동명'].apply(remove_je)\n",
    "\n",
    "code = code.loc[:,['시군구명','법정동명','행정동명','시군구코드']]\n",
    "\n",
    "code = code.drop_duplicates(['법정동명','행정동명'])\n",
    "\n",
    "# 행정동명 값 변경\n",
    "code['행정동명'] = code['행정동명'].replace({'중계2,3동': '중계2.3동', '보래매동': '보라매동'})"
   ]
  },
  {
   "cell_type": "code",
   "execution_count": 41,
   "id": "8223c010",
   "metadata": {},
   "outputs": [],
   "source": [
    "# 데이터프레임 병합\n",
    "merged_df = pd.merge(dis_po_h, code, \n",
    "                     left_on=['시군구명','EMD_NM'], right_on=['시군구명','행정동명'], how='left')\n",
    "\n",
    "# 불필요한 열 제거\n",
    "merged_df.drop(columns=['EMD_NM'], inplace=True)"
   ]
  },
  {
   "cell_type": "code",
   "execution_count": 42,
   "id": "2baabd1e",
   "metadata": {},
   "outputs": [],
   "source": [
    "merged_df['행정동명_수'] = merged_df.groupby(['시군구명','행정동명'])['행정동명'].transform('count')\n",
    "merged_df['num'] = merged_df['num']/merged_df['행정동명_수']"
   ]
  },
  {
   "cell_type": "code",
   "execution_count": 53,
   "id": "ac0f55b3",
   "metadata": {},
   "outputs": [],
   "source": [
    "# 법정동면을 기준으로 num의 합계를 계산\n",
    "result_df = merged_df.groupby(['시군구명','법정동명']).agg({'num': 'sum', '시군구코드': 'first'}).reset_index()\n",
    "result_df['시군구코드'] = result_df['시군구코드'].astype('str')\n",
    "result_df.to_csv('./장애인구/장애인구법정동.csv', index=False, encoding='utf-8-sig')"
   ]
  },
  {
   "cell_type": "code",
   "execution_count": 47,
   "id": "7fa17b9a",
   "metadata": {},
   "outputs": [
    {
     "data": {
      "text/plain": [
       "389777.9999999996"
      ]
     },
     "execution_count": 47,
     "metadata": {},
     "output_type": "execute_result"
    }
   ],
   "source": [
    "sum(result_df['num'])"
   ]
  },
  {
   "cell_type": "code",
   "execution_count": 48,
   "id": "dd6b3f2d",
   "metadata": {},
   "outputs": [
    {
     "data": {
      "text/plain": [
       "389778"
      ]
     },
     "execution_count": 48,
     "metadata": {},
     "output_type": "execute_result"
    }
   ],
   "source": [
    "sum(dis_po_h['num'])"
   ]
  },
  {
   "cell_type": "code",
   "execution_count": null,
   "id": "b76ac306",
   "metadata": {},
   "outputs": [],
   "source": []
  }
 ],
 "metadata": {
  "kernelspec": {
   "display_name": "Python 3 (ipykernel)",
   "language": "python",
   "name": "python3"
  },
  "language_info": {
   "codemirror_mode": {
    "name": "ipython",
    "version": 3
   },
   "file_extension": ".py",
   "mimetype": "text/x-python",
   "name": "python",
   "nbconvert_exporter": "python",
   "pygments_lexer": "ipython3",
   "version": "3.9.7"
  }
 },
 "nbformat": 4,
 "nbformat_minor": 5
}
